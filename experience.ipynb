{
  "nbformat": 4,
  "nbformat_minor": 0,
  "metadata": {
    "colab": {
      "provenance": [],
      "machine_shape": "hm",
      "gpuType": "A100"
    },
    "kernelspec": {
      "name": "python3",
      "display_name": "Python 3"
    },
    "language_info": {
      "name": "python"
    },
    "accelerator": "GPU"
  },
  "cells": [
    {
      "cell_type": "code",
      "source": [
        "import pandas as pd\n",
        "import re\n",
        "\n",
        "def extract_experience(text):\n",
        "    # Mapping words to numbers for 0-20 and some common multiples of ten\n",
        "    words_to_numbers = {\n",
        "        'zero': 0, 'one': 1, 'two': 2, 'three': 3, 'four': 4, 'five': 5, 'six': 6, 'seven': 7,\n",
        "        'eight': 8, 'nine': 9, 'ten': 10, 'eleven': 11, 'twelve': 12, 'thirteen': 13, 'fourteen':14,\n",
        "        'fifteen': 15, 'sixteen': 16, 'seventeen': 17, 'eighteen': 18, 'nineteen': 19, 'twenty': 20,\n",
        "        'thirty': 30, 'forty': 40, 'fifty': 50, 'sixty': 60, 'seventy': 70, 'eighty': 80, 'ninety': 90\n",
        "    }\n",
        "\n",
        "    # Helper function to convert word to number\n",
        "    def word_to_num(word):\n",
        "        return words_to_numbers.get(word.lower(), None)\n",
        "\n",
        "    # Define regex patterns for various ways of expressing years of experience\n",
        "    number_or_word = r'\\b(\\d+|' + '|'.join(words_to_numbers.keys()) + r')\\b'\n",
        "\n",
        "    patterns = [\n",
        "        r'\\b(\\d+|' + '|'.join(words_to_numbers.keys()) + r')\\s*(?:years?|year)\\s+of\\s+(?:relevant\\s+)?(?:work\\s+)?experience\\b',\n",
        "        r\"\\b(\\d+|\" + \"|\".join(words_to_numbers.keys()) + r\")\\s*(?:years?|year)\\s+of\\s+(?:relevant\\s+)?(?:work\\s+)?experience\\b\",\n",
        "        r\"\\b(\\d+|\" + \"|\".join(words_to_numbers.keys()) + r\")\\s*(?:year|years)\\s+experience\\s+required\\b\",\n",
        "        r\"\\b(\\d+|\" + \"|\".join(words_to_numbers.keys()) + r\")\\s*(?:year|years)\\s+minimum\\s+experience\\b\",\n",
        "        r\"\\b(?:at\\s+least|minimum)\\s+(\\d+|\" + \"|\".join(words_to_numbers.keys()) + r\")\\s*(?:year|years)\\s+of\\s+(?:relevant\\s+)?(?:work\\s+)?experience\\b\",\n",
        "        #r\"\\b(?:more\\s+than|\\over)\\s+(\\d+|\" + \"|\".join(words_to_numbers.keys()) + r\")\\s*(?:year|years)\\s+of\\s+(?:relevant\\s+)?(?:work\\s+)?experience\\b\",\n",
        "        r\"\\b(\\d+|\" + \"|\".join(words_to_numbers.keys()) + r\")\\s*(?:year|years)\\s+of\\s+professional\\s+experience\\b\",\n",
        "        r\"\\b(?:experience\\s+of\\s+(\\d+|\" + \"|\".join(words_to_numbers.keys()) + r\")\\s*(?:year|years))\\b\",  # Added a new pattern\n",
        "        r\"\\b(?:\\d+|\" + \"|\".join(words_to_numbers.keys()) + r\")\\s*(?:year|years)\\s+required\\b\",  # Added a new pattern\n",
        "    ]\n",
        "\n",
        "    # Combine patterns into one regex\n",
        "    combined_pattern = '|'.join(f\"({pattern})\" for pattern in patterns)\n",
        "\n",
        "    # Compile the regex\n",
        "    regex = re.compile(combined_pattern, re.IGNORECASE)\n",
        "\n",
        "    # Find all matches\n",
        "    matches = regex.findall(text)\n",
        "\n",
        "    # Extract the years from matches\n",
        "    experience_years = -1\n",
        "    for match in matches:\n",
        "        for item in match:\n",
        "            if item.isdigit() and (experience_years == -1 or int(item) < experience_years):\n",
        "                experience_years = int(item)\n",
        "            else:\n",
        "                num = word_to_num(item)\n",
        "                if num is not None and (experience_years == -1 or num < experience_years):\n",
        "                    experience_years = num\n",
        "\n",
        "    return experience_years\n",
        "\n",
        "# Load data and preprocess\n",
        "df = pd.read_excel(\"SpaceIndividuals_GNSS.xlsx\")\n",
        "columns = [\"Título\", \"OfferDescription\", \"Requirements\", \"Responsibilities\"]\n",
        "descriptions = df[columns].copy().apply(lambda x: ' '.join(x.dropna().astype(str)), axis=1).tolist()\n",
        "input = [desc for desc in descriptions]\n",
        "\n",
        "# Extract experience and annotate DataFrame\n",
        "requiredYears = []\n",
        "classified = 0\n",
        "for text in input:\n",
        "    textExperience = extract_experience(text)\n",
        "    if textExperience != -1:\n",
        "        classified += 1\n",
        "    requiredYears.append(textExperience)\n",
        "df[\"RequiredExperience\"] = requiredYears\n",
        "df.to_excel(\"SpaceIndividuals_GNSS.xlsx\")\n",
        "\n",
        "# Calculate and print classification statistics\n",
        "percentage = (classified / len(requiredYears)) * 100\n",
        "print(f\"Classified: {percentage:.2f}%\")\n",
        "print(f\"Undefined: {(100 - percentage):.2f}%\")\n",
        "\n",
        "print(\"\\n ----------------------------- \\n\")\n",
        "print(\"Document Annotated\")"
      ],
      "metadata": {
        "colab": {
          "base_uri": "https://localhost:8080/"
        },
        "id": "NIHM2tkkrrAN",
        "outputId": "836da342-4cc3-4e91-e407-b70cf559ff6e"
      },
      "execution_count": 33,
      "outputs": [
        {
          "output_type": "stream",
          "name": "stdout",
          "text": [
            "Classified: 7.41%\n",
            "Undefined: 92.59%\n",
            "\n",
            " ----------------------------- \n",
            "\n",
            "Document Annotated\n"
          ]
        }
      ]
    },
    {
      "cell_type": "code",
      "source": [],
      "metadata": {
        "id": "aeFuMV21s2M2"
      },
      "execution_count": null,
      "outputs": []
    }
  ]
}